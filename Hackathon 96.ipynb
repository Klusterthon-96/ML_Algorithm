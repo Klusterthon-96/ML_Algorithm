{
 "cells": [
  {
   "cell_type": "code",
   "execution_count": 1,
   "id": "11af346d",
   "metadata": {},
   "outputs": [
    {
     "name": "stderr",
     "output_type": "stream",
     "text": [
      "C:\\Users\\Imahv\\anaconda3\\lib\\site-packages\\numpy\\_distributor_init.py:30: UserWarning: loaded more than 1 DLL from .libs:\n",
      "C:\\Users\\Imahv\\anaconda3\\lib\\site-packages\\numpy\\.libs\\libopenblas64__v0.3.23-246-g3d31191b-gcc_10_3_0.dll\n",
      "C:\\Users\\Imahv\\anaconda3\\lib\\site-packages\\numpy\\.libs\\libopenblas64__v0.3.23-gcc_10_3_0.dll\n",
      "  warnings.warn(\"loaded more than 1 DLL from .libs:\"\n"
     ]
    }
   ],
   "source": [
    "import numpy as np\n",
    "import pandas as pd\n",
    "from sklearn.model_selection import train_test_split\n",
    "from sklearn.preprocessing import LabelEncoder, StandardScaler, OneHotEncoder\n",
    "from sklearn.ensemble import RandomForestClassifier\n",
    "from sklearn.metrics import accuracy_score\n",
    "from sklearn.compose import ColumnTransformer\n",
    "from sklearn.metrics import classification_report\n",
    "from sklearn.pipeline import Pipeline"
   ]
  },
  {
   "cell_type": "code",
   "execution_count": 2,
   "id": "df2348bd",
   "metadata": {},
   "outputs": [],
   "source": [
    "Farming = pd.read_csv(\"C:\\\\Users\\\\Imahv\\\\MLCourse\\\\crop_Data.csv\") #reading the csv file"
   ]
  },
  {
   "cell_type": "code",
   "execution_count": 3,
   "id": "91dfe220",
   "metadata": {},
   "outputs": [
    {
     "data": {
      "text/html": [
       "<div>\n",
       "<style scoped>\n",
       "    .dataframe tbody tr th:only-of-type {\n",
       "        vertical-align: middle;\n",
       "    }\n",
       "\n",
       "    .dataframe tbody tr th {\n",
       "        vertical-align: top;\n",
       "    }\n",
       "\n",
       "    .dataframe thead th {\n",
       "        text-align: right;\n",
       "    }\n",
       "</style>\n",
       "<table border=\"1\" class=\"dataframe\">\n",
       "  <thead>\n",
       "    <tr style=\"text-align: right;\">\n",
       "      <th></th>\n",
       "      <th>temperature</th>\n",
       "      <th>humidity</th>\n",
       "      <th>ph</th>\n",
       "      <th>water availability</th>\n",
       "      <th>harvest season</th>\n",
       "      <th>label</th>\n",
       "      <th>Country</th>\n",
       "    </tr>\n",
       "  </thead>\n",
       "  <tbody>\n",
       "    <tr>\n",
       "      <th>0</th>\n",
       "      <td>20.879744</td>\n",
       "      <td>82.002744</td>\n",
       "      <td>6.502985</td>\n",
       "      <td>202.935536</td>\n",
       "      <td>rainy</td>\n",
       "      <td>rice</td>\n",
       "      <td>Nigeria</td>\n",
       "    </tr>\n",
       "  </tbody>\n",
       "</table>\n",
       "</div>"
      ],
      "text/plain": [
       "   temperature   humidity        ph  water availability harvest season label  \\\n",
       "0    20.879744  82.002744  6.502985          202.935536          rainy  rice   \n",
       "\n",
       "   Country  \n",
       "0  Nigeria  "
      ]
     },
     "execution_count": 3,
     "metadata": {},
     "output_type": "execute_result"
    }
   ],
   "source": [
    "Farming.head(1) #printing the first 30 rows of the dataset"
   ]
  },
  {
   "cell_type": "code",
   "execution_count": 4,
   "id": "9b1eb02e",
   "metadata": {},
   "outputs": [
    {
     "data": {
      "text/html": [
       "<div>\n",
       "<style scoped>\n",
       "    .dataframe tbody tr th:only-of-type {\n",
       "        vertical-align: middle;\n",
       "    }\n",
       "\n",
       "    .dataframe tbody tr th {\n",
       "        vertical-align: top;\n",
       "    }\n",
       "\n",
       "    .dataframe thead th {\n",
       "        text-align: right;\n",
       "    }\n",
       "</style>\n",
       "<table border=\"1\" class=\"dataframe\">\n",
       "  <thead>\n",
       "    <tr style=\"text-align: right;\">\n",
       "      <th></th>\n",
       "      <th>temperature</th>\n",
       "      <th>humidity</th>\n",
       "      <th>ph</th>\n",
       "      <th>water availability</th>\n",
       "      <th>harvest season</th>\n",
       "      <th>label</th>\n",
       "      <th>Country</th>\n",
       "    </tr>\n",
       "  </thead>\n",
       "  <tbody>\n",
       "    <tr>\n",
       "      <th>1395</th>\n",
       "      <td>23.874845</td>\n",
       "      <td>86.792613</td>\n",
       "      <td>6.718725</td>\n",
       "      <td>177.514731</td>\n",
       "      <td>rainy</td>\n",
       "      <td>jute</td>\n",
       "      <td>South Africa</td>\n",
       "    </tr>\n",
       "    <tr>\n",
       "      <th>1396</th>\n",
       "      <td>23.928879</td>\n",
       "      <td>88.071123</td>\n",
       "      <td>6.880205</td>\n",
       "      <td>154.660874</td>\n",
       "      <td>rainy</td>\n",
       "      <td>jute</td>\n",
       "      <td>South Africa</td>\n",
       "    </tr>\n",
       "    <tr>\n",
       "      <th>1397</th>\n",
       "      <td>24.814412</td>\n",
       "      <td>81.686889</td>\n",
       "      <td>6.861069</td>\n",
       "      <td>190.788639</td>\n",
       "      <td>rainy</td>\n",
       "      <td>jute</td>\n",
       "      <td>Nigeria</td>\n",
       "    </tr>\n",
       "    <tr>\n",
       "      <th>1398</th>\n",
       "      <td>24.447439</td>\n",
       "      <td>82.286484</td>\n",
       "      <td>6.769346</td>\n",
       "      <td>190.968489</td>\n",
       "      <td>rainy</td>\n",
       "      <td>jute</td>\n",
       "      <td>Nigeria</td>\n",
       "    </tr>\n",
       "    <tr>\n",
       "      <th>1399</th>\n",
       "      <td>26.574217</td>\n",
       "      <td>73.819949</td>\n",
       "      <td>7.261581</td>\n",
       "      <td>159.322307</td>\n",
       "      <td>rainy</td>\n",
       "      <td>jute</td>\n",
       "      <td>South Africa</td>\n",
       "    </tr>\n",
       "  </tbody>\n",
       "</table>\n",
       "</div>"
      ],
      "text/plain": [
       "      temperature   humidity        ph  water availability harvest season  \\\n",
       "1395    23.874845  86.792613  6.718725          177.514731          rainy   \n",
       "1396    23.928879  88.071123  6.880205          154.660874          rainy   \n",
       "1397    24.814412  81.686889  6.861069          190.788639          rainy   \n",
       "1398    24.447439  82.286484  6.769346          190.968489          rainy   \n",
       "1399    26.574217  73.819949  7.261581          159.322307          rainy   \n",
       "\n",
       "     label       Country  \n",
       "1395  jute  South Africa  \n",
       "1396  jute  South Africa  \n",
       "1397  jute       Nigeria  \n",
       "1398  jute       Nigeria  \n",
       "1399  jute  South Africa  "
      ]
     },
     "execution_count": 4,
     "metadata": {},
     "output_type": "execute_result"
    }
   ],
   "source": [
    "Farming.tail(5) #printing the last 30 rows of the dataset"
   ]
  },
  {
   "cell_type": "code",
   "execution_count": 5,
   "id": "2dad0c2e",
   "metadata": {},
   "outputs": [
    {
     "data": {
      "text/plain": [
       "(1400, 7)"
      ]
     },
     "execution_count": 5,
     "metadata": {},
     "output_type": "execute_result"
    }
   ],
   "source": [
    "Farming.shape #printing the shape of the dataset"
   ]
  },
  {
   "cell_type": "code",
   "execution_count": 6,
   "id": "cd713d82",
   "metadata": {},
   "outputs": [
    {
     "data": {
      "text/plain": [
       "temperature           0\n",
       "humidity              0\n",
       "ph                    0\n",
       "water availability    0\n",
       "harvest season        0\n",
       "label                 0\n",
       "Country               0\n",
       "dtype: int64"
      ]
     },
     "execution_count": 6,
     "metadata": {},
     "output_type": "execute_result"
    }
   ],
   "source": [
    "Farming.isnull().sum() #checking for null values"
   ]
  },
  {
   "cell_type": "code",
   "execution_count": 7,
   "id": "3b7751e8",
   "metadata": {},
   "outputs": [
    {
     "name": "stdout",
     "output_type": "stream",
     "text": [
      "<class 'pandas.core.frame.DataFrame'>\n",
      "RangeIndex: 1400 entries, 0 to 1399\n",
      "Data columns (total 7 columns):\n",
      " #   Column              Non-Null Count  Dtype  \n",
      "---  ------              --------------  -----  \n",
      " 0   temperature         1400 non-null   float64\n",
      " 1   humidity            1400 non-null   float64\n",
      " 2   ph                  1400 non-null   float64\n",
      " 3   water availability  1400 non-null   float64\n",
      " 4   harvest season      1400 non-null   object \n",
      " 5   label               1400 non-null   object \n",
      " 6   Country             1400 non-null   object \n",
      "dtypes: float64(4), object(3)\n",
      "memory usage: 76.7+ KB\n"
     ]
    }
   ],
   "source": [
    "Farming.info() #printing the information of the dataset"
   ]
  },
  {
   "cell_type": "code",
   "execution_count": 8,
   "id": "164bc0ce",
   "metadata": {},
   "outputs": [
    {
     "data": {
      "text/html": [
       "<div>\n",
       "<style scoped>\n",
       "    .dataframe tbody tr th:only-of-type {\n",
       "        vertical-align: middle;\n",
       "    }\n",
       "\n",
       "    .dataframe tbody tr th {\n",
       "        vertical-align: top;\n",
       "    }\n",
       "\n",
       "    .dataframe thead th {\n",
       "        text-align: right;\n",
       "    }\n",
       "</style>\n",
       "<table border=\"1\" class=\"dataframe\">\n",
       "  <thead>\n",
       "    <tr style=\"text-align: right;\">\n",
       "      <th></th>\n",
       "      <th>temperature</th>\n",
       "      <th>humidity</th>\n",
       "      <th>ph</th>\n",
       "      <th>water availability</th>\n",
       "    </tr>\n",
       "  </thead>\n",
       "  <tbody>\n",
       "    <tr>\n",
       "      <th>count</th>\n",
       "      <td>1400.000000</td>\n",
       "      <td>1400.000000</td>\n",
       "      <td>1400.000000</td>\n",
       "      <td>1400.000000</td>\n",
       "    </tr>\n",
       "    <tr>\n",
       "      <th>mean</th>\n",
       "      <td>24.971621</td>\n",
       "      <td>64.611062</td>\n",
       "      <td>6.565246</td>\n",
       "      <td>91.784651</td>\n",
       "    </tr>\n",
       "    <tr>\n",
       "      <th>std</th>\n",
       "      <td>4.081622</td>\n",
       "      <td>22.753785</td>\n",
       "      <td>0.835101</td>\n",
       "      <td>58.682258</td>\n",
       "    </tr>\n",
       "    <tr>\n",
       "      <th>min</th>\n",
       "      <td>15.330426</td>\n",
       "      <td>14.258040</td>\n",
       "      <td>3.504752</td>\n",
       "      <td>20.211267</td>\n",
       "    </tr>\n",
       "    <tr>\n",
       "      <th>25%</th>\n",
       "      <td>22.178239</td>\n",
       "      <td>56.824217</td>\n",
       "      <td>6.068795</td>\n",
       "      <td>51.546542</td>\n",
       "    </tr>\n",
       "    <tr>\n",
       "      <th>50%</th>\n",
       "      <td>25.140245</td>\n",
       "      <td>68.288321</td>\n",
       "      <td>6.524478</td>\n",
       "      <td>72.379183</td>\n",
       "    </tr>\n",
       "    <tr>\n",
       "      <th>75%</th>\n",
       "      <td>27.963227</td>\n",
       "      <td>82.710409</td>\n",
       "      <td>7.042343</td>\n",
       "      <td>107.428334</td>\n",
       "    </tr>\n",
       "    <tr>\n",
       "      <th>max</th>\n",
       "      <td>36.977944</td>\n",
       "      <td>94.962187</td>\n",
       "      <td>9.935091</td>\n",
       "      <td>298.560117</td>\n",
       "    </tr>\n",
       "  </tbody>\n",
       "</table>\n",
       "</div>"
      ],
      "text/plain": [
       "       temperature     humidity           ph  water availability\n",
       "count  1400.000000  1400.000000  1400.000000         1400.000000\n",
       "mean     24.971621    64.611062     6.565246           91.784651\n",
       "std       4.081622    22.753785     0.835101           58.682258\n",
       "min      15.330426    14.258040     3.504752           20.211267\n",
       "25%      22.178239    56.824217     6.068795           51.546542\n",
       "50%      25.140245    68.288321     6.524478           72.379183\n",
       "75%      27.963227    82.710409     7.042343          107.428334\n",
       "max      36.977944    94.962187     9.935091          298.560117"
      ]
     },
     "execution_count": 8,
     "metadata": {},
     "output_type": "execute_result"
    }
   ],
   "source": [
    "Farming.describe() #describing the dataset"
   ]
  },
  {
   "cell_type": "code",
   "execution_count": 9,
   "id": "fe7b6c71",
   "metadata": {},
   "outputs": [
    {
     "data": {
      "text/plain": [
       "temperature           float64\n",
       "humidity              float64\n",
       "ph                    float64\n",
       "water availability    float64\n",
       "harvest season         object\n",
       "label                  object\n",
       "Country                object\n",
       "dtype: object"
      ]
     },
     "execution_count": 9,
     "metadata": {},
     "output_type": "execute_result"
    }
   ],
   "source": [
    "Farming.dtypes #printing the data types of the dataset"
   ]
  },
  {
   "cell_type": "code",
   "execution_count": 10,
   "id": "050b4628",
   "metadata": {},
   "outputs": [
    {
     "name": "stdout",
     "output_type": "stream",
     "text": [
      "Value counts for label:\n",
      "maize          200\n",
      "rice           100\n",
      "chickpea       100\n",
      "kidneybeans    100\n",
      "pigeonpeas     100\n",
      "mothbeans      100\n",
      "mungbean       100\n",
      "blackgram      100\n",
      "lentil         100\n",
      "watermelon     100\n",
      "muskmelon      100\n",
      "cotton         100\n",
      "jute           100\n",
      "Name: label, dtype: int64\n",
      "Value counts for Country:\n",
      "Nigeria         713\n",
      "South Africa    468\n",
      "Kenya           155\n",
      "Sudan            64\n",
      "Name: Country, dtype: int64\n"
     ]
    }
   ],
   "source": [
    "categorical_columns = ['label','Country']\n",
    "for column in categorical_columns:\n",
    "    value_counts = Farming[column].value_counts()\n",
    "    print(f\"Value counts for {column}:\")\n",
    "    print(value_counts)"
   ]
  },
  {
   "cell_type": "code",
   "execution_count": 11,
   "id": "2912130c",
   "metadata": {},
   "outputs": [],
   "source": [
    "X = Farming[['temperature', 'humidity','ph', 'water availability','label', 'Country']].copy()\n",
    "y = Farming['harvest season'].copy() #separating the dependent variable"
   ]
  },
  {
   "cell_type": "code",
   "execution_count": 12,
   "id": "7bafbfca",
   "metadata": {},
   "outputs": [],
   "source": [
    "X_train, X_test, y_train, y_test = train_test_split(X, y, test_size = 0.2, random_state = 0)"
   ]
  },
  {
   "cell_type": "code",
   "execution_count": 13,
   "id": "4f04ab78",
   "metadata": {},
   "outputs": [],
   "source": [
    "#Temperature Level\n",
    "Farming['temperature'] = pd.cut(Farming['temperature'], bins=[15, 19, 24, 29, float('inf')], labels=['Cool', 'Mild', 'Warm', 'Hot'])\n",
    "\n",
    "#Humidity Level\n",
    "Farming['humidity'] = pd.cut(Farming['humidity'], bins=[0, 20, 40, 60, 80, float('inf')], labels=['Low', 'Moderate', 'Average', 'High', 'Very High'])\n",
    "\n",
    "# pH Level\n",
    "Farming['ph'] = pd.cut(Farming['ph'], bins=[0, 2, 6, 7, 10, float('inf')], labels=['Strongly Acidic', 'Moderately Acidic', 'Neutral', 'Moderately Alkaline', 'Highly Alkaline'])\n",
    "\n",
    "# Water Availability Level\n",
    "Farming['water availability'] = pd.cut(Farming['water availability'], bins=[float('-inf'), 50, 100, float('inf')], labels=['Low', 'Moderate', 'High'])"
   ]
  },
  {
   "cell_type": "code",
   "execution_count": 14,
   "id": "ae57b80c",
   "metadata": {},
   "outputs": [
    {
     "name": "stdout",
     "output_type": "stream",
     "text": [
      "Accuracy: 0.9\n",
      "              precision    recall  f1-score   support\n",
      "\n",
      "       rainy       0.85      0.92      0.88       113\n",
      "      spring       1.00      1.00      1.00        20\n",
      "      summer       1.00      1.00      1.00        57\n",
      "      winter       0.89      0.79      0.84        90\n",
      "\n",
      "    accuracy                           0.90       280\n",
      "   macro avg       0.93      0.93      0.93       280\n",
      "weighted avg       0.90      0.90      0.90       280\n",
      "\n"
     ]
    }
   ],
   "source": [
    "preprocessor = ColumnTransformer(\n",
    "    transformers=[\n",
    "        ('num', StandardScaler(), ['ph', 'water availability']), #scaling the numerical columns\n",
    "        ('cat', OneHotEncoder(), ['label', 'Country']) #one-hot encoding the categorical columns\n",
    "    ])\n",
    "\n",
    "# Create the pipeline with the preprocessing steps and the model\n",
    "pipeline = Pipeline(steps=[('preprocessor', preprocessor), ('model', RandomForestClassifier())])\n",
    "\n",
    "# Fit the pipeline to your data\n",
    "pipeline.fit(X_train, y_train)\n",
    "\n",
    "# Make predictions on the test set\n",
    "y_pred = pipeline.predict(X_test)\n",
    "\n",
    "# Calculate the accuracy of the model\n",
    "accuracy = accuracy_score(y_test, y_pred)\n",
    "report = classification_report(y_test, y_pred)\n",
    "print(\"Accuracy:\", accuracy)\n",
    "print(report)"
   ]
  },
  {
   "cell_type": "code",
   "execution_count": 15,
   "id": "b701aa71",
   "metadata": {},
   "outputs": [
    {
     "name": "stdout",
     "output_type": "stream",
     "text": [
      "      label=blackgram  label=chickpea  label=cotton  label=jute  \\\n",
      "0                 1.0             0.0           0.0         0.0   \n",
      "1                 0.0             0.0           0.0         1.0   \n",
      "2                 0.0             0.0           0.0         0.0   \n",
      "3                 0.0             0.0           0.0         0.0   \n",
      "4                 0.0             0.0           0.0         1.0   \n",
      "...               ...             ...           ...         ...   \n",
      "1115              1.0             0.0           0.0         0.0   \n",
      "1116              0.0             0.0           0.0         0.0   \n",
      "1117              0.0             0.0           1.0         0.0   \n",
      "1118              0.0             0.0           0.0         0.0   \n",
      "1119              0.0             0.0           0.0         0.0   \n",
      "\n",
      "      label=kidneybeans  label=lentil  label=maize  label=mothbeans  \\\n",
      "0                   0.0           0.0          0.0              0.0   \n",
      "1                   0.0           0.0          0.0              0.0   \n",
      "2                   0.0           0.0          0.0              0.0   \n",
      "3                   0.0           1.0          0.0              0.0   \n",
      "4                   0.0           0.0          0.0              0.0   \n",
      "...                 ...           ...          ...              ...   \n",
      "1115                0.0           0.0          0.0              0.0   \n",
      "1116                0.0           1.0          0.0              0.0   \n",
      "1117                0.0           0.0          0.0              0.0   \n",
      "1118                0.0           0.0          0.0              1.0   \n",
      "1119                0.0           0.0          0.0              0.0   \n",
      "\n",
      "      label=mungbean  label=muskmelon  label=pigeonpeas  label=rice  \\\n",
      "0                0.0              0.0               0.0         0.0   \n",
      "1                0.0              0.0               0.0         0.0   \n",
      "2                1.0              0.0               0.0         0.0   \n",
      "3                0.0              0.0               0.0         0.0   \n",
      "4                0.0              0.0               0.0         0.0   \n",
      "...              ...              ...               ...         ...   \n",
      "1115             0.0              0.0               0.0         0.0   \n",
      "1116             0.0              0.0               0.0         0.0   \n",
      "1117             0.0              0.0               0.0         0.0   \n",
      "1118             0.0              0.0               0.0         0.0   \n",
      "1119             1.0              0.0               0.0         0.0   \n",
      "\n",
      "      label=watermelon  Country=Kenya  Country=Nigeria  Country=South Africa  \\\n",
      "0                  0.0            0.0              1.0                   0.0   \n",
      "1                  0.0            0.0              1.0                   0.0   \n",
      "2                  0.0            0.0              1.0                   0.0   \n",
      "3                  0.0            1.0              0.0                   0.0   \n",
      "4                  0.0            0.0              1.0                   0.0   \n",
      "...                ...            ...              ...                   ...   \n",
      "1115               0.0            0.0              1.0                   0.0   \n",
      "1116               0.0            0.0              1.0                   0.0   \n",
      "1117               0.0            0.0              0.0                   0.0   \n",
      "1118               0.0            1.0              0.0                   0.0   \n",
      "1119               0.0            0.0              1.0                   0.0   \n",
      "\n",
      "      Country=Sudan  \n",
      "0               0.0  \n",
      "1               0.0  \n",
      "2               0.0  \n",
      "3               0.0  \n",
      "4               0.0  \n",
      "...             ...  \n",
      "1115            0.0  \n",
      "1116            0.0  \n",
      "1117            1.0  \n",
      "1118            0.0  \n",
      "1119            0.0  \n",
      "\n",
      "[1120 rows x 17 columns]\n"
     ]
    }
   ],
   "source": [
    "# Access the OneHotEncoder from the preprocessor\n",
    "onehot_encoder = preprocessor.transformers_[1][1]\n",
    "\n",
    "# Get the feature names for each category\n",
    "categories = onehot_encoder.categories_\n",
    "encoded_feature_names = [f\"{col}={cat}\" for col, cats in zip(categorical_columns, categories) for cat in cats]\n",
    "\n",
    "# Create a DataFrame to display the encoded values\n",
    "encoded_values = pd.DataFrame(onehot_encoder.transform(X_train[categorical_columns]).toarray(), columns=encoded_feature_names)\n",
    "\n",
    "# Print the encoded values\n",
    "print(encoded_values)"
   ]
  },
  {
   "cell_type": "code",
   "execution_count": 16,
   "id": "8eed64e5",
   "metadata": {
    "scrolled": true
   },
   "outputs": [
    {
     "name": "stdout",
     "output_type": "stream",
     "text": [
      "Prediction: ['rainy']\n"
     ]
    }
   ],
   "source": [
    "import pickle\n",
    "\n",
    "# Make predictions on new data\n",
    "new_data = pd.DataFrame({\n",
    "    'temperature': [25],\n",
    "    'humidity': [65],\n",
    "    'ph': [6.5],\n",
    "    'water availability': [80],\n",
    "    'label': ['rice'],\n",
    "    'Country': ['Nigeria']\n",
    "})\n",
    "\n",
    "# Use the pipeline to make predictions\n",
    "prediction = pipeline.predict(new_data)\n",
    "\n",
    "print(\"Prediction:\", prediction)\n",
    "\n",
    "# Save the pipeline as a pickle file\n",
    "with open('crop_prediction_pipeline.pkl', 'wb') as f:\n",
    "    pickle.dump(pipeline, f)"
   ]
  }
 ],
 "metadata": {
  "kernelspec": {
   "display_name": "Python 3 (ipykernel)",
   "language": "python",
   "name": "python3"
  },
  "language_info": {
   "codemirror_mode": {
    "name": "ipython",
    "version": 3
   },
   "file_extension": ".py",
   "mimetype": "text/x-python",
   "name": "python",
   "nbconvert_exporter": "python",
   "pygments_lexer": "ipython3",
   "version": "3.10.9"
  }
 },
 "nbformat": 4,
 "nbformat_minor": 5
}
